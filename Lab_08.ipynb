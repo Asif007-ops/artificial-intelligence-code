{
  "cells": [
    {
      "cell_type": "code",
      "execution_count": 2,
      "metadata": {
        "id": "hYW2TIWObnCK"
      },
      "outputs": [],
      "source": [
        "# Define a new cgraph\n",
        "cgraph = {'WA': ['SA', 'NT'], \n",
        "          'Q': ['SA', 'NT', 'NSW'], \n",
        "          'T': [],\n",
        "          'V': ['SA', 'NSW'], \n",
        "          'SA': ['WA', 'NT', 'Q', 'NSW','V'], \n",
        "          'NT': ['Q', 'WA', 'SA'], \n",
        "          'NSW': ['Q', 'V', 'SA']}"
      ]
    },
    {
      "cell_type": "code",
      "execution_count": 3,
      "metadata": {
        "id": "9O9871h6bnCN"
      },
      "outputs": [],
      "source": [
        "import random\n",
        "def get_color(node, rv, cg):\n",
        "    # CODE\n",
        "    # check rv[node] is empty or not when no color availabe\n",
        "    if len(rv[node])==0:\n",
        "      return 'no colour'\n",
        "      \n",
        "    color = random.choice(rv[node])\n",
        "    rv.pop(node)\n",
        "    # update remaining values for neihbouring node\n",
        "    adjList = cg[node]\n",
        "    for adj in adjList:\n",
        "        if adj in rv.keys() and color in rv[adj]:\n",
        "            rv[adj].remove(color)\n",
        "    #print(adjList)\n",
        "    return color"
      ]
    },
    {
      "cell_type": "markdown",
      "metadata": {
        "id": "j8ywr8eQbnCN"
      },
      "source": [
        "## Highest Degree Node"
      ]
    },
    {
      "cell_type": "code",
      "execution_count": 4,
      "metadata": {
        "id": "hDpTD2onbnCO"
      },
      "outputs": [],
      "source": [
        "# write a method to get the highest degree node\n",
        "def get_hdnode(cg, solved):\n",
        "    mnode = ''\n",
        "    degree = -1\n",
        "    for k in cg.keys():\n",
        "        if len(cg[k])  > degree and k not in solved.keys():\n",
        "            #print(k)\n",
        "            degree = len(cg[k])\n",
        "            mnode = k\n",
        "    return mnode"
      ]
    },
    {
      "cell_type": "code",
      "source": [
        "get_hdnode(cgraph, {'SA':'R'})"
      ],
      "metadata": {
        "colab": {
          "base_uri": "https://localhost:8080/",
          "height": 35
        },
        "id": "hn_4jQ7U0C9K",
        "outputId": "671dd1b8-c0b6-4731-b720-a85cd5d1e081"
      },
      "execution_count": null,
      "outputs": [
        {
          "output_type": "execute_result",
          "data": {
            "text/plain": [
              "'Q'"
            ],
            "application/vnd.google.colaboratory.intrinsic+json": {
              "type": "string"
            }
          },
          "metadata": {},
          "execution_count": 4
        }
      ]
    },
    {
      "cell_type": "markdown",
      "metadata": {
        "id": "ylzC1XBQbnCP"
      },
      "source": [
        "Color the nodes using Highest degree heuristic"
      ]
    },
    {
      "cell_type": "code",
      "execution_count": 5,
      "metadata": {
        "id": "iHlkL3lJbnCP",
        "outputId": "d60a0c44-3c7e-4434-a065-fb823b0f9af9",
        "colab": {
          "base_uri": "https://localhost:8080/"
        }
      },
      "outputs": [
        {
          "output_type": "stream",
          "name": "stdout",
          "text": [
            "assigned: {'SA': 'B'}\n",
            "rv: {'WA': ['R', 'G'], 'Q': ['R', 'G'], 'T': ['R', 'G', 'B'], 'V': ['R', 'G'], 'NT': ['R', 'G'], 'NSW': ['R', 'G']}\n",
            "assigned: {'SA': 'B', 'Q': 'G'}\n",
            "rv: {'WA': ['R', 'G'], 'T': ['R', 'G', 'B'], 'V': ['R', 'G'], 'NT': ['R'], 'NSW': ['R']}\n",
            "assigned: {'SA': 'B', 'Q': 'G', 'NT': 'R'}\n",
            "rv: {'WA': ['G'], 'T': ['R', 'G', 'B'], 'V': ['R', 'G'], 'NSW': ['R']}\n",
            "assigned: {'SA': 'B', 'Q': 'G', 'NT': 'R', 'NSW': 'R'}\n",
            "rv: {'WA': ['G'], 'T': ['R', 'G', 'B'], 'V': ['G']}\n",
            "assigned: {'SA': 'B', 'Q': 'G', 'NT': 'R', 'NSW': 'R', 'WA': 'G'}\n",
            "rv: {'T': ['R', 'G', 'B'], 'V': ['G']}\n",
            "assigned: {'SA': 'B', 'Q': 'G', 'NT': 'R', 'NSW': 'R', 'WA': 'G', 'V': 'G'}\n",
            "rv: {'T': ['R', 'G', 'B']}\n",
            "assigned: {'SA': 'B', 'Q': 'G', 'NT': 'R', 'NSW': 'R', 'WA': 'G', 'V': 'G', 'T': 'B'}\n",
            "rv: {}\n"
          ]
        }
      ],
      "source": [
        "assigned = {} # store assigned variables with colors\n",
        "remainingValues = {'WA': ['R','G','B'], \n",
        "                    'Q': ['R','G','B'],\n",
        "                    'T': ['R','G','B'],\n",
        "                    'V':  ['R','G','B'], \n",
        "                    'NT': ['R','G','B'],\n",
        "                    'SA': ['R','G','B'],                    \n",
        "                    'NSW': ['R','G','B']}\n",
        "\n",
        "for i in range(len(cgraph)):\n",
        "    # assign color to the highest degree node\n",
        "    hdNode = get_hdnode(cgraph, assigned)\n",
        "    color = get_color(hdNode, remainingValues, cgraph)\n",
        "    # CODE\n",
        "    # check if 'no color' is returned\n",
        "    # print failure\n",
        "\n",
        "    assigned[hdNode]= color\n",
        "    print('assigned: ', end=\"\")\n",
        "    print(assigned)\n",
        "    print('rv: ', end=\"\")\n",
        "    print(remainingValues)\n"
      ]
    },
    {
      "cell_type": "markdown",
      "metadata": {
        "id": "c7h2vdiTbnCQ"
      },
      "source": [
        "## Minimum Remaining Value"
      ]
    },
    {
      "cell_type": "code",
      "execution_count": 6,
      "metadata": {
        "id": "zYiGg6q1bnCQ"
      },
      "outputs": [],
      "source": [
        "# define a method to select a node by MRV\n",
        "def get_MRVnode(rv, solved):\n",
        "    # CODE\n",
        "    #implement the logic on remainingValues list\n",
        "    mrvnode=''\n",
        "    value=4\n",
        "    for i in rv.keys():\n",
        "      if len(rv[i]) < value:\n",
        "        value=len(rv[i])\n",
        "        mvrnode=i\n",
        "    return mvrnode"
      ]
    },
    {
      "cell_type": "markdown",
      "metadata": {
        "id": "4CHiqApobnCR"
      },
      "source": [
        "Color the nodes using MRV heuristic"
      ]
    },
    {
      "cell_type": "code",
      "execution_count": 7,
      "metadata": {
        "id": "-WkGNPrsbnCR",
        "colab": {
          "base_uri": "https://localhost:8080/"
        },
        "outputId": "a5063342-c9ec-4481-954a-6dcd614ddeca"
      },
      "outputs": [
        {
          "output_type": "stream",
          "name": "stdout",
          "text": [
            "{'Q': ['R', 'G', 'B'], 'T': ['R', 'G', 'B'], 'V': ['R', 'G', 'B'], 'NT': ['R', 'G'], 'SA': ['R', 'G'], 'NSW': ['R', 'G', 'B']}\n",
            "{'WA': 'B'}\n",
            "{'Q': ['R', 'B'], 'T': ['R', 'G', 'B'], 'V': ['R', 'G', 'B'], 'SA': ['R'], 'NSW': ['R', 'G', 'B']}\n",
            "{'WA': 'B', 'NT': 'G'}\n",
            "{'Q': ['B'], 'T': ['R', 'G', 'B'], 'V': ['G', 'B'], 'NSW': ['G', 'B']}\n",
            "{'WA': 'B', 'NT': 'G', 'SA': 'R'}\n",
            "{'T': ['R', 'G', 'B'], 'V': ['G', 'B'], 'NSW': ['G']}\n",
            "{'WA': 'B', 'NT': 'G', 'SA': 'R', 'Q': 'B'}\n",
            "{'T': ['R', 'G', 'B'], 'V': ['B']}\n",
            "{'WA': 'B', 'NT': 'G', 'SA': 'R', 'Q': 'B', 'NSW': 'G'}\n",
            "{'T': ['R', 'G', 'B']}\n",
            "{'WA': 'B', 'NT': 'G', 'SA': 'R', 'Q': 'B', 'NSW': 'G', 'V': 'B'}\n",
            "{}\n",
            "{'WA': 'B', 'NT': 'G', 'SA': 'R', 'Q': 'B', 'NSW': 'G', 'V': 'B', 'T': 'G'}\n"
          ]
        }
      ],
      "source": [
        "assigned = {}\n",
        "\n",
        "remainingValues = {'WA': ['R','G','B'], \n",
        "                    'Q': ['R','G','B'],\n",
        "                    'T': ['R','G','B'],\n",
        "                    'V':  ['R','G','B'], \n",
        "                    'NT': ['R','G','B'],\n",
        "                    'SA': ['R','G','B'],                    \n",
        "                    'NSW': ['R','G','B']}\n",
        "\n",
        "for i in range(len(cgraph)):\n",
        "    # assign color to the highest degree node\n",
        "    mrvNode = get_MRVnode(remainingValues, assigned)\n",
        "    color = get_color(mrvNode, remainingValues, cgraph)\n",
        "    # CODE\n",
        "    if color=='no color':\n",
        "      print('failure')\n",
        "\n",
        "    assigned[mrvNode]= color\n",
        "    print(remainingValues)\n",
        "    print(assigned)"
      ]
    },
    {
      "cell_type": "code",
      "execution_count": null,
      "metadata": {
        "id": "CYxQpzhEbnCS"
      },
      "outputs": [],
      "source": [
        ""
      ]
    }
  ],
  "metadata": {
    "kernelspec": {
      "display_name": "Python 3",
      "language": "python",
      "name": "python3"
    },
    "language_info": {
      "codemirror_mode": {
        "name": "ipython",
        "version": 3
      },
      "file_extension": ".py",
      "mimetype": "text/x-python",
      "name": "python",
      "nbconvert_exporter": "python",
      "pygments_lexer": "ipython3",
      "version": "3.8.5"
    },
    "colab": {
      "name": "Week 08 CSP.ipynb",
      "provenance": [],
      "collapsed_sections": []
    }
  },
  "nbformat": 4,
  "nbformat_minor": 0
}